{
 "cells": [
  {
   "cell_type": "code",
   "execution_count": 5,
   "metadata": {},
   "outputs": [
    {
     "name": "stdout",
     "output_type": "stream",
     "text": [
      "Training set size: 162769\n",
      "Validation set size: 19867\n",
      "Test set size: 19962\n"
     ]
    }
   ],
   "source": [
    "import pandas as pd\n",
    "\n",
    "# Load the CSV file\n",
    "csv_path = '../data/raw/list_eval_partition.csv'\n",
    "partition_df = pd.read_csv(csv_path, header=1)\n",
    "\n",
    "# Rename columns for clarity\n",
    "partition_df.columns = ['image_id', 'partition']\n",
    "\n",
    "# Split the data into train, validation, and test sets\n",
    "train_set = partition_df[partition_df['partition'] == 0]\n",
    "validation_set = partition_df[partition_df['partition'] == 1]\n",
    "test_set = partition_df[partition_df['partition'] == 2]\n",
    "\n",
    "# Print out the sizes of each set\n",
    "print(f\"Training set size: {len(train_set)}\")\n",
    "print(f\"Validation set size: {len(validation_set)}\")\n",
    "print(f\"Test set size: {len(test_set)}\")\n"
   ]
  },
  {
   "cell_type": "code",
   "execution_count": null,
   "metadata": {},
   "outputs": [],
   "source": [
    "#Organize images into directories:\n",
    "import os\n",
    "import shutil\n",
    "\n",
    "# Define the base directories\n",
    "image_dir = '../data/img_align_celeba'\n",
    "train_dir = '../data/processed/train'\n",
    "validation_dir = '../data/processed/validation'\n",
    "test_dir = '../data/processed/test'\n",
    "\n",
    "# Create directories if they don't exist\n",
    "os.makedirs(train_dir, exist_ok=True)\n",
    "os.makedirs(validation_dir, exist_ok=True)\n",
    "os.makedirs(test_dir, exist_ok=True)\n",
    "\n",
    "# Function to copy images to respective directories\n",
    "def copy_images(set_df, target_dir):\n",
    "    for img_id in set_df['image_id']:\n",
    "        src_path = os.path.join(image_dir, img_id)\n",
    "        dst_path = os.path.join(target_dir, img_id)\n",
    "        shutil.copy(src_path, dst_path)\n",
    "\n",
    "# Copy images to the corresponding directories\n",
    "copy_images(train_set, train_dir)\n",
    "copy_images(validation_set, validation_dir)\n",
    "copy_images(test_set, test_dir)\n"
   ]
  }
 ],
 "metadata": {
  "kernelspec": {
   "display_name": "myenv38",
   "language": "python",
   "name": "python3"
  },
  "language_info": {
   "codemirror_mode": {
    "name": "ipython",
    "version": 3
   },
   "file_extension": ".py",
   "mimetype": "text/x-python",
   "name": "python",
   "nbconvert_exporter": "python",
   "pygments_lexer": "ipython3",
   "version": "3.8.18"
  }
 },
 "nbformat": 4,
 "nbformat_minor": 2
}
