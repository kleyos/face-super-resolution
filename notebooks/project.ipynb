{
 "cells": [
  {
   "cell_type": "code",
   "execution_count": 1,
   "metadata": {},
   "outputs": [],
   "source": [
    "\n",
    "import os\n",
    "import cv2\n",
    "import pandas as pd\n",
    "import matplotlib.pyplot as plt\n",
    "import tensorflow as tf\n",
    "import sys\n",
    "\n",
    "project_root = os.path.abspath(os.path.join(os.getcwd(), '..'))\n",
    "sys.path.append(project_root)\n",
    "\n",
    "import random\n",
    "\n",
    "def reduce_dataset(directory, delete_percentage=50):\n",
    "    \"\"\"\n",
    "    Delete a specified percentage of images from the dataset directory.\n",
    "\n",
    "    :param directory: Path to the directory containing the images.\n",
    "    :param delete_percentage: Percentage of images to delete (e.g., 50 for 50%).\n",
    "    \"\"\"\n",
    "    # Get a list of all files in the directory\n",
    "    files = [f for f in os.listdir(directory) if os.path.isfile(os.path.join(directory, f))]\n",
    "\n",
    "    # Calculate the number of files to delete\n",
    "    num_files_to_delete = int(len(files) * delete_percentage / 100)\n",
    "\n",
    "    # Randomly select files to delete\n",
    "    files_to_delete = random.sample(files, num_files_to_delete)\n",
    "\n",
    "    # Delete the selected files\n",
    "    for file in files_to_delete:\n",
    "        os.remove(os.path.join(directory, file))\n",
    "        print(f\"Deleted {file}\")\n",
    "\n",
    "    print(f\"Deleted {num_files_to_delete} files out of {len(files)} total files.\")\n",
    "\n",
    "# Usage\n",
    "dataset_directory = '../data/raw/img_align_celeba/'\n",
    "reduce_dataset(dataset_directory, delete_percentage=80)\n"
   ]
  },
  {
   "cell_type": "code",
   "execution_count": 2,
   "metadata": {},
   "outputs": [
    {
     "name": "stdout",
     "output_type": "stream",
     "text": [
      "Model: \"model\"\n",
      "_________________________________________________________________\n",
      " Layer (type)                Output Shape              Param #   \n",
      "=================================================================\n",
      " input_1 (InputLayer)        [(None, 128, 128, 3)]     0         \n",
      "                                                                 \n",
      " conv2d (Conv2D)             (None, 128, 128, 64)      1792      \n",
      "                                                                 \n",
      " up_sampling2d (UpSampling2  (None, 256, 256, 64)      0         \n",
      " D)                                                              \n",
      "                                                                 \n",
      " conv2d_1 (Conv2D)           (None, 256, 256, 64)      36928     \n",
      "                                                                 \n",
      " up_sampling2d_1 (UpSamplin  (None, 512, 512, 64)      0         \n",
      " g2D)                                                            \n",
      "                                                                 \n",
      " conv2d_2 (Conv2D)           (None, 512, 512, 64)      36928     \n",
      "                                                                 \n",
      " conv2d_3 (Conv2D)           (None, 512, 512, 3)       1731      \n",
      "                                                                 \n",
      "=================================================================\n",
      "Total params: 77379 (302.26 KB)\n",
      "Trainable params: 77379 (302.26 KB)\n",
      "Non-trainable params: 0 (0.00 Byte)\n",
      "_________________________________________________________________\n"
     ]
    }
   ],
   "source": [
    "from src.models.model import build_sr_model\n",
    "# Build the model\n",
    "\n",
    "model = build_sr_model()\n",
    "model.summary()"
   ]
  },
  {
   "cell_type": "code",
   "execution_count": 3,
   "metadata": {},
   "outputs": [],
   "source": [
    "model.compile(optimizer='adam', loss='mean_squared_error')"
   ]
  },
  {
   "cell_type": "code",
   "execution_count": 4,
   "metadata": {},
   "outputs": [
    {
     "name": "stdout",
     "output_type": "stream",
     "text": [
      "Found 101300 images belonging to 1 classes.\n",
      "Epoch 1/10\n",
      "   8/6331 [..............................] - ETA: 9:15:10 - loss: 0.0771"
     ]
    }
   ],
   "source": [
    "from src.utils.utils import generate_batches, plot_history\n",
    "\n",
    "image_directory = '../data/raw/img_align_celeba/'\n",
    "batch_size = 16\n",
    "\n",
    "# Use the generator function in your model's fit method\n",
    "history = model.fit(\n",
    "    generate_batches(image_directory, batch_size, ),\n",
    "    steps_per_epoch=len(os.listdir(image_directory)) // batch_size,\n",
    "    epochs=10\n",
    ")\n",
    "\n",
    "# Plot the training and validation loss to check for overfitting\n",
    "plot_history(history)"
   ]
  }
 ],
 "metadata": {
  "kernelspec": {
   "display_name": "myenv38",
   "language": "python",
   "name": "python3"
  },
  "language_info": {
   "codemirror_mode": {
    "name": "ipython",
    "version": 3
   },
   "file_extension": ".py",
   "mimetype": "text/x-python",
   "name": "python",
   "nbconvert_exporter": "python",
   "pygments_lexer": "ipython3",
   "version": "3.8.18"
  }
 },
 "nbformat": 4,
 "nbformat_minor": 2
}
